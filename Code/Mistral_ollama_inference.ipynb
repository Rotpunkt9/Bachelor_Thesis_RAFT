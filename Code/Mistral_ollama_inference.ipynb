{
 "cells": [
  {
   "cell_type": "code",
   "execution_count": 18,
   "metadata": {
    "collapsed": true
   },
   "outputs": [
    {
     "name": "stdout",
     "output_type": "stream",
     "text": [
      "Requirement already satisfied: ollama in /Users/konst/miniconda3/envs/deep_rl/lib/python3.10/site-packages (0.1.7)\r\n",
      "Requirement already satisfied: httpx<0.26.0,>=0.25.2 in /Users/konst/miniconda3/envs/deep_rl/lib/python3.10/site-packages (from ollama) (0.25.2)\r\n",
      "Requirement already satisfied: sniffio in /Users/konst/miniconda3/envs/deep_rl/lib/python3.10/site-packages (from httpx<0.26.0,>=0.25.2->ollama) (1.2.0)\r\n",
      "Requirement already satisfied: httpcore==1.* in /Users/konst/miniconda3/envs/deep_rl/lib/python3.10/site-packages (from httpx<0.26.0,>=0.25.2->ollama) (1.0.4)\r\n",
      "Requirement already satisfied: certifi in /Users/konst/miniconda3/envs/deep_rl/lib/python3.10/site-packages (from httpx<0.26.0,>=0.25.2->ollama) (2023.5.7)\r\n",
      "Requirement already satisfied: anyio in /Users/konst/miniconda3/envs/deep_rl/lib/python3.10/site-packages (from httpx<0.26.0,>=0.25.2->ollama) (3.5.0)\r\n",
      "Requirement already satisfied: idna in /Users/konst/miniconda3/envs/deep_rl/lib/python3.10/site-packages (from httpx<0.26.0,>=0.25.2->ollama) (3.4)\r\n",
      "Requirement already satisfied: h11<0.15,>=0.13 in /Users/konst/miniconda3/envs/deep_rl/lib/python3.10/site-packages (from httpcore==1.*->httpx<0.26.0,>=0.25.2->ollama) (0.14.0)\r\n",
      "Note: you may need to restart the kernel to use updated packages.\n"
     ]
    }
   ],
   "source": [
    "pip install ollama"
   ]
  },
  {
   "cell_type": "code",
   "execution_count": 19,
   "outputs": [],
   "source": [
    "import pandas as pd\n",
    "import ollama\n",
    "import json\n",
    "from tqdm import tqdm\n",
    "import re\n",
    "from sklearn.model_selection import train_test_split\n",
    "from datasets import load_dataset"
   ],
   "metadata": {
    "collapsed": false
   }
  },
  {
   "cell_type": "code",
   "execution_count": 7,
   "outputs": [],
   "source": [
    "# Load your dataset\n",
    "from datasets import load_dataset\n",
    "\n",
    "# If the dataset is gated/private, make sure you have run huggingface-cli login\n",
    "dataset = load_dataset(\"Koni99/fake-news-testset\")"
   ],
   "metadata": {
    "collapsed": false
   }
  },
  {
   "cell_type": "code",
   "execution_count": 16,
   "outputs": [
    {
     "data": {
      "text/plain": "'Specter of Trump Loosens Tongues, if Not Purse Strings, in Silicon Valley - The New York Times PALO ALTO, Calif.  —   After years of scorning the political process, Silicon Valley has leapt into the fray. The prospect of a President Donald J. Trump is pushing the tech community to move beyond its traditional role as donors and to embrace a new existence as agitators and activists. A distinguished venture capital firm emblazoned on its corporate home page an earthy   epithet. One prominent tech chieftain says the consequences of Mr. Trump’s election would “range between disastrous and terrible. ” Another compares him to a dictator. And nearly 150 tech leaders signed an open letter decrying Mr. Trump and his campaign of “anger” and “bigotry. ” Not quite all the action is  . Peter Thiel, a founder of PayPal and Palantir who was the first outside investor in Facebook, spoke at the Republican convention in July. The New York Times reported on Saturday that Mr. Thiel is giving $1. 25 million to support Mr. Trump’s candidacy even as other supporters flee. (He also recently gave $1 million to a “super PAC” that supports Senator Rob Portman, the Republican freshman running for   in Ohio.) Getting involved in politics used to be seen as clashing with Silicon Valley’s value system: You transform the world by making problems obsolete, not solving them through Washington. Nor did entrepreneurs want to alienate whatever segment of customers did not agree with them politically. Such reticence is no longer in style here. “We’re a bunch of nerds not used to having a lot of limelight,” said Dave McClure, an investor who runs a tech incubator called 500 Startups. “But to quote   ‘With great power comes great responsibility. ’” Mr. McClure grew worried after the Republican and Democratic conventions as Mr. Trump began to catch up to Hillary Clinton in the polls. He wanted Silicon Valley to do more, and so late last month he announced Nerdz4Hillary, an informal   effort. An initial group of donors pledged $50, 000 the goal was to ask the “nerdz” for small donations to match that sum. They have not come through yet. “We’re kind of optimistic we’ll get the other $50, 000 in a few weeks,” Mr. McClure said. That relatively slow pace reflects Silicon Valley’s shifting position: Even as it becomes increasingly free with its opinions, it has been less free with its checkbook. The most recent data, from late August, shows Mrs. Clinton taking in $7. 7 million from the tech community, according to Crowdpac, a   that tracks donations. By that point in 2012, Crowdpac says, President Obama had raised $21 million from entrepreneurs and venture capitalists. Reid Hoffman, the billionaire   of the business networking site LinkedIn, offers a snapshot of Silicon Valley’s evolving approach to politics. Mr. Hoffman was a top Obama donor, giving $1 million to the Priorities USA political action committee, something several of his peers did as well. Last month, Mr. Hoffman garnered worldwide publicity for saying he would donate up to $5 million to veterans’ groups if Mr. Trump released his taxes, a remote possibility that never came to pass. He has castigated Mr. Trump in interviews, saying he was speaking for those who were afraid. Mr. Hoffman’s outright donations, however, have been smaller this election cycle. In May, he gave $400, 000 to the Hillary Victory Fund. Asked if there was more recent giving that had not shown up in federal election records, Mr. Hoffman cryptically responded in an email, “Looking at some PACs, etc. ” He declined several opportunities to elaborate. Even as Priorities USA has raised $133 million this election cycle, far exceeding its total in 2012, its tech contributions have dwindled. The only familiar tech name this time around is John Doerr of the venture capital firm Kleiner Perkins Caufield  Byers, who gave $500, 000. The AOL   Steve Case said his September endorsement of Mrs. Clinton, via an   in The Washington Post, was the first time he ever publicly declared for a candidate. “I always focused on policy and avoided politics,” he said. “But if Trump were elected president, I would be disappointed in myself for not acting. ” When he wrote the   he was uncertain about donating money to Mrs. Clinton, saying only that it was “probable. ” A spokeswoman said Sunday that Mr. Case gave $25, 000 to the Hillary Victory Fund. Mason Harrison, Crowdpac’s head of communications, offered a possible reason for Mrs. Clinton’s    support. “Donors give to support candidates they love, not to defeat candidates they fear,” he said. A few billionaires are acting instead of talking. Dustin Moskovitz, a founder of Facebook, said he was giving $20 million to various Democratic election efforts  —   the first time he and his wife, Cari Tuna, have endorsed a candidate. He declined to be interviewed. Part of the problem for Mrs. Clinton is that, however preferable she may be to Mr. Trump in the tech community, she pales in comparison to President Obama. After some initial misgivings, Silicon Valley found its champion in him. There has been a revolving door between tech and the Obama administration, just as previous Democratic administrations had a revolving door with Wall Street. In June, President Obama seemed to suggest that he might become a venture capitalist after his term ends. Mrs. Clinton is not as enthusiastic toward Silicon Valley and its disruptive ways. In a speech in the summer of 2015, she noted that   in the “  or   gig economy”  —   Uber, Airbnb and their ilk  —   were “unleashing innovation” but also “raising hard questions about workplace protection and what a good job will look like in the future. ” The Clinton campaign declined to comment. The Trump campaign did not respond to a query. Even as Silicon Valley works against Mr. Trump, there is quiet acknowledgment that his campaign has bared some important issues. In an endorsement this month of Mrs. Clinton, the venture capital firm Union Square Ventures pointed out that “the benefits of technology and globalization have not been evenly distributed,” and that this needed to change. If Silicon Valley’s political involvement outlasts this unusual election, the tech community may start contributing more to the process than commentary and cash. “Not only are tech people going to be wielding influence, but they’re going to be the candidate,” Mr. McClure said. “Reid Hoffman, Sheryl Sandberg”  —   the chief operating officer of Facebook  —   “and a bunch of other folks here have political aspirations. ” Others may be inspired to enter politics through other doors. Palmer Luckey is the    founder of the Oculus virtual reality company, which he sold to Facebook for $2 billion. Mr. Luckey donated $10, 000 to a group dedicated to spreading    messages about Mrs. Clinton both online and off. The group’s first billboard, said to be outside Pittsburgh, labeled her “Too Big to Jail. ” Mr. Luckey told The Daily Beast that his thinking “went along the lines of, ‘Hey, I have a bunch of money. I would love to see more of this stuff. ’” He added, “I thought it sounded like a real jolly good time. ” Many virtual reality developers were less happy, and Mr. Luckey quickly posted his regrets on Facebook. He declined to comment further. “If we’re going to be more vocal, we’ll have to live more transparently,” said Hunter Walk, a venture capitalist whose campaign to persuade tech companies to give workers Election Day off signed up nearly 300 firms, including Spotify, SurveyMonkey and TaskRabbit. “There will be a period of adjustment. ” But perhaps being vocal is a temporary condition after all. The venture firm CRV was in the spotlight at the end of August with its blunt   message, which included the earthy epithet. A few weeks later, it cleaned up its website. The partners went from employing a publicist to seek out attention to declining interviews. “We reached everyone we wanted to reach, and hopefully influenced opinions,” said Saar Gur, a CRV venture capitalist. “Then the buzz died down and we went back to our day jobs, which are super busy. ”'"
     },
     "execution_count": 16,
     "metadata": {},
     "output_type": "execute_result"
    }
   ],
   "source": [
    "dataset[\"test\"][\"text\"][0]"
   ],
   "metadata": {
    "collapsed": false
   }
  },
  {
   "cell_type": "code",
   "execution_count": 5,
   "outputs": [],
   "source": [
    " # set up the prompt for the model\n",
    "\n",
    " def get_prediction_ollama(model,article):\n",
    "    \"\"\"\n",
    "     :param model: the SLM to use e.g. mistral for Mistral-7B\n",
    "     :param article: the news article to be analyzed\n",
    "     :return: response generated by the model\n",
    "    \"\"\"\n",
    "\n",
    "    impersonator = \"You are an expert AI fact checker trained to detect fake news.\"\n",
    "    instructor = \"Is this article real or fake news? Analyze the given text in detail as a fact checker would. Explain your reasoning step-by-step. Check for misleading information, false claims, biased language. If the news article is real, respond with 1 for 'True', if fake, respond with 0 for 'False'.\"\n",
    "    cloze_prompt = \"Structure your answer as a dictionary object with the two keys 'rationale' for your analytic reasoning and 'prediction' for your final prediction. The values for 'prediction' are binary. Either 1 for a real article or 0 for fake news. Do not add anything else. Your output dictinary should look like this: { rationale: <your_rationale>, prediction: <your_prediction [0,1]> }.\"\n",
    "    prompt = f\"{instructor} {cloze_prompt}\"\n",
    "    system_message = impersonator\n",
    "    user_message = prompt +\"Here is the article for you to analyze: \"+ article\n",
    "    messages = [\n",
    "        {'role':'system',\n",
    "         'content': system_message},\n",
    "        {'role':'user',\n",
    "         'content': user_message},\n",
    "    ]\n",
    "    #create the response using Ollama\n",
    "    response = ollama.chat(model=model, messages=messages)\n",
    "    return response['message']['content']"
   ],
   "metadata": {
    "collapsed": false
   }
  },
  {
   "cell_type": "code",
   "execution_count": 20,
   "outputs": [
    {
     "name": "stdout",
     "output_type": "stream",
     "text": [
      "{ rationale: Here is my analysis of the article as a fact checker:\n",
      "\n",
      "1. The source of the article is not provided, which could indicate that it may not be a credible source.\n",
      "2. The article mentions \"terrorists\" without providing any context or evidence to support the claim. This lack of specificity could imply that the article is spreading propaganda or misinformation.\n",
      "3. The article references \"insurgents\" attempting to break into Aleppo, but it does not provide any information on who these insurgents are or what their goals are. This lack of context makes it difficult to verify the claims made in the article.\n",
      "4. The article mentions that Russia has increased its intelligence activities in Syria, which could be a legitimate reason for Russia's actions. However, without additional information, it is impossible to determine if these activities are lawful or ethical.\n",
      "5. The article mentions that Russia will use \"new weapons\" during upcoming attacks on terrorists. This claim is not verified and could be seen as an attempt to sensationalize or mislead the reader.\n",
      "6. The article references the use of \"Caliber\" cruise missiles, but does not provide any information on which ships would be responsible for launching them. This lack of specificity makes it difficult to verify the claims made in the article.\n",
      "\n",
      "Based on these findings, I predict that this article is likely to be misleading or fake news. Therefore, my final prediction is:\n",
      "\n",
      "prediction: 0 (False) }\n"
     ]
    }
   ],
   "source": [
    "#example\n",
    "print(get_prediction_ollama(\"llama2\",dataset[\"test\"][\"text\"][1]))"
   ],
   "metadata": {
    "collapsed": false
   }
  },
  {
   "cell_type": "code",
   "execution_count": 69,
   "outputs": [
    {
     "name": "stdout",
     "output_type": "stream",
     "text": [
      " { rationale: \"The article reports on a legitimate event - the passage of disaster aid, government funding, and debt ceiling increase legislation in the Senate. The sources cited are reputable (Reuters), and the information presented aligns with other credible news outlets. The language is factual, and there is no apparent misinformation or false claims. The article does mention some political positions and disagreements but does not take a biased stance.\", prediction: 1 }\n"
     ]
    }
   ],
   "source": [
    "print(get_prediction_ollama(\"mistral\",dataset[\"test\"][\"text\"][1]))"
   ],
   "metadata": {
    "collapsed": false
   }
  },
  {
   "cell_type": "code",
   "execution_count": 1,
   "outputs": [
    {
     "ename": "NameError",
     "evalue": "name 'get_prediction_ollama' is not defined",
     "output_type": "error",
     "traceback": [
      "\u001B[0;31m---------------------------------------------------------------------------\u001B[0m",
      "\u001B[0;31mNameError\u001B[0m                                 Traceback (most recent call last)",
      "Cell \u001B[0;32mIn[1], line 1\u001B[0m\n\u001B[0;32m----> 1\u001B[0m \u001B[38;5;28mprint\u001B[39m(\u001B[43mget_prediction_ollama\u001B[49m(\u001B[38;5;124m\"\u001B[39m\u001B[38;5;124mphi\u001B[39m\u001B[38;5;124m\"\u001B[39m,dataset\u001B[38;5;241m.\u001B[39mtext[\u001B[38;5;241m1\u001B[39m]))\n",
      "\u001B[0;31mNameError\u001B[0m: name 'get_prediction_ollama' is not defined"
     ]
    }
   ],
   "source": [
    "print(get_prediction_ollama(\"phi\",dataset[\"test\"][\"text\"][1]))"
   ],
   "metadata": {
    "collapsed": false
   }
  },
  {
   "cell_type": "code",
   "execution_count": 5,
   "outputs": [],
   "source": [
    "def get_completion(messages):\n",
    "    response = ollama.chat(model=\"mistral\", messages=messages)\n",
    "    return response['message']['content']"
   ],
   "metadata": {
    "collapsed": false
   }
  },
  {
   "cell_type": "code",
   "execution_count": 6,
   "outputs": [],
   "source": [
    "# extract the prediction from the raw model output\n",
    "def get_prediction(article):\n",
    "    impersonator = \"You are an expert AI fact checker trained to detect fake news.\"\n",
    "    instructor = \"Is this article real or fake news? Analyze the given text in detail as a fact checker would. Explain your reasoning step-by-step. Check for misleading information, false claims, biased language. If the news article is real, respond with 1 for 'True', if fake, respond with 0 for 'False'.\"\n",
    "    cloze_prompt = \"Structure your answer as a JSON object with the two keys 'rationale' for your analytic reasoning and 'prediction' for your final prediction. The values for 'prediction' are binary. Either 1 for a real article or 0 for fake news. In 'rationale' you provide a string with your detailed reasoning process that led you to the decision you took. Remember if the article contains misleading information, false claims, biased language or any other hints of disinformation your prediction should be 0 for fake news, else 1 for true news. To summarize the JSON object looks like this: {'rationale': <your_analytic_reasoning_process>, 'prediction': <your_prediction[0,1]>} \"\n",
    "    prompt = f\"{instructor} {cloze_prompt}\"\n",
    "    system_message = impersonator\n",
    "    user_message = \"Here is the article for you to analyze: \" + article + prompt\n",
    "\n",
    "    messages =  [\n",
    "        {'role':'system',\n",
    "         'content': system_message},\n",
    "        {'role':'user',\n",
    "         'content': user_message},\n",
    "    ]\n",
    "    response = get_completion(messages)\n",
    "    text = response\n",
    "    model_prediction = \"Check manually!\"\n",
    "    try:\n",
    "        response = json.loads(str(response))\n",
    "        model_prediction = int(response.get(\"prediction\"))\n",
    "    except json.JSONDecodeError:\n",
    "        #toDo add cases where it is prediction\" or prediction' and the number is also in \"\" or ''\n",
    "        match = re.search(r'[\"\\']?[pP]rediction[\"\\']?\\s*:\\s*[\"\\']?(\\d)[\"\\']?', text)\n",
    "        if match:\n",
    "            model_prediction = int(match.group(1))\n",
    "    return response,model_prediction"
   ],
   "metadata": {
    "collapsed": false
   }
  },
  {
   "cell_type": "code",
   "execution_count": 32,
   "outputs": [],
   "source": [
    "#returns final prediction and raw model response\n",
    "def extend_data(dataframe, max_retries=5):\n",
    "    model_predictions = []\n",
    "    raw_response = []\n",
    "    for i in tqdm(range(len(dataframe['label']))):\n",
    "        for attempt in range(max_retries):\n",
    "            try:\n",
    "                response, prediction = get_prediction(dataframe['text'][i])\n",
    "                model_predictions.append(prediction)\n",
    "                raw_response.append(response)\n",
    "                break\n",
    "            except Exception as e:\n",
    "                print(f\"Error: {e}. Attempt {attempt+1} of {max_retries}. Retrying...\")\n",
    "\n",
    "        else:\n",
    "            print(f\"Max retries exceeded for index {i}. Request failed.\")\n",
    "            model_predictions.append(\"Error\")\n",
    "            raw_response.append(\"Error\")\n",
    "    return model_predictions, raw_response"
   ],
   "metadata": {
    "collapsed": false
   }
  },
  {
   "cell_type": "code",
   "execution_count": 33,
   "outputs": [],
   "source": [
    "#extend the dataframe with the prediction and raw response\n",
    "def mistral_testset(dataframe, filename):\n",
    "    predictions, raw = extend_data(dataframe)\n",
    "    pd_df = pd.DataFrame(dataframe)\n",
    "    extended_dataframe = pd_df.assign(model_prediction = predictions, raw_model_response = raw)\n",
    "    # Save the DataFrame as a CSV file\n",
    "    extended_dataframe.to_csv(filename, index=True)"
   ],
   "metadata": {
    "collapsed": false
   }
  }
 ],
 "metadata": {
  "kernelspec": {
   "display_name": "Python 3",
   "language": "python",
   "name": "python3"
  },
  "language_info": {
   "codemirror_mode": {
    "name": "ipython",
    "version": 2
   },
   "file_extension": ".py",
   "mimetype": "text/x-python",
   "name": "python",
   "nbconvert_exporter": "python",
   "pygments_lexer": "ipython2",
   "version": "2.7.6"
  }
 },
 "nbformat": 4,
 "nbformat_minor": 0
}
